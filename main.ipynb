{
 "cells": [
  {
   "cell_type": "code",
   "execution_count": 25,
   "id": "41e536b9-ea72-4109-ad82-0d74dc60ef97",
   "metadata": {
    "jupyter": {
     "source_hidden": true
    }
   },
   "outputs": [
    {
     "data": {
      "text/markdown": [
       "## Converting samples for test tubes\n"
      ],
      "text/plain": [
       "<IPython.core.display.Markdown object>"
      ]
     },
     "metadata": {},
     "output_type": "display_data"
    }
   ],
   "source": [
    "%%markdown\n",
    "## Converting samples for test tubes"
   ]
  },
  {
   "cell_type": "code",
   "execution_count": 22,
   "id": "c871be06-e7af-4294-be53-585624f7f8b9",
   "metadata": {},
   "outputs": [
    {
     "name": "stdout",
     "output_type": "stream",
     "text": [
      "E001\n",
      "  DNA concentration: 245.9 ng\n",
      "  DNA converted: 41 µl\n",
      "  DNA enzyme: 4.5 µl\n",
      "  DNA enzyme: 4.5 µl\n",
      "  DIH2O: 154.5 µl\n",
      "E030\n",
      "  DNA concentration: 261.6 ng\n",
      "  DNA converted: 38 µl\n",
      "  DNA enzyme: 4.5 µl\n",
      "  DNA enzyme: 4.5 µl\n",
      "  DIH2O: 157.5 µl\n",
      "E037\n",
      "  DNA concentration: 185.9 ng\n",
      "  DNA converted: 54 µl\n",
      "  DNA enzyme: 4.5 µl\n",
      "  DNA enzyme: 4.5 µl\n",
      "  DIH2O: 141.5 µl\n",
      "E029\n",
      "  DNA concentration: 483.0 ng\n",
      "  DNA converted: 21 µl\n",
      "  DNA enzyme: 4.5 µl\n",
      "  DNA enzyme: 4.5 µl\n",
      "  DIH2O: 174.5 µl\n",
      "E009\n",
      "  DNA concentration: 167.4 ng\n",
      "  DNA converted: 60 µl\n",
      "  DNA enzyme: 4.5 µl\n",
      "  DNA enzyme: 4.5 µl\n",
      "  DIH2O: 135.5 µl\n",
      "E099\n",
      "  DNA concentration: 300.4 ng\n",
      "  DNA converted: 33 µl\n",
      "  DNA enzyme: 4.5 µl\n",
      "  DNA enzyme: 4.5 µl\n",
      "  DIH2O: 162.5 µl\n"
     ]
    }
   ],
   "source": [
    "e0_samples = {\n",
    "    \"E001\": 245.9,\n",
    "    \"E030\": 261.6,\n",
    "    \"E037\": 185.9,\n",
    "    \"E029\": 483.0,\n",
    "    \"E009\": 167.4\n",
    "}\n",
    "\n",
    "RESTRICTION_ENZYME = 4.5 # mul\n",
    "TEST_TUBE_TOTAL = 200 # mul\n",
    "\n",
    "def ng_to_mul(ng):\n",
    "    \"\"\"Converts nanograms to microliters (maybe???) 🤔\"\"\"\n",
    "    return int(round(10000/ng,0))\n",
    "\n",
    "# Repeat this for every input sample\n",
    "for e0, e0_ng in e0_samples.items():\n",
    "    e0_mul = ng_to_mul(e0_ng)\n",
    "    DI_H2O = TEST_TUBE_TOTAL - RESTRICTION_ENZYME - e0_mul\n",
    "    \n",
    "    print(e0)\n",
    "    print(\"  DNA concentration:\", e0_ng, \"ng\")\n",
    "    print(\"  DNA converted:\", e0_mul, \"µl\")\n",
    "    print(\"  DNA enzyme:\", RESTRICTION_ENZYME, \"µl\")\n",
    "    print(\"  DNA enzyme:\", RESTRICTION_ENZYME, \"µl\")\n",
    "    print(\"  DIH2O:\", DI_H2O, \"µl\")"
   ]
  },
  {
   "cell_type": "code",
   "execution_count": 26,
   "id": "c15be31a-4040-4b27-a56f-0807f0540868",
   "metadata": {
    "jupyter": {
     "source_hidden": true
    }
   },
   "outputs": [
    {
     "data": {
      "text/markdown": [
       "## Going from micrograms of DNA to moles of oligonucleoside\n"
      ],
      "text/plain": [
       "<IPython.core.display.Markdown object>"
      ]
     },
     "metadata": {},
     "output_type": "display_data"
    }
   ],
   "source": [
    "%%markdown\n",
    "## Going from micrograms of DNA to moles of oligonucleoside"
   ]
  },
  {
   "cell_type": "code",
   "execution_count": 11,
   "id": "6a2936fb-ce79-43f1-a794-dd2541ca7af6",
   "metadata": {},
   "outputs": [
    {
     "name": "stdout",
     "output_type": "stream",
     "text": [
      "Part 1\n",
      "13750000 bp per chromosome\n",
      "673805963636.3636 chromosomes\n",
      "1347611927272.7273 telomeres\n",
      "2.237762237762238e-12 moles of oligonucleoside\n",
      "\n",
      "Part 2: molarity\n",
      "1.118881118881119e-11 molarity\n",
      "\n",
      "Part 3: stock solution\n",
      "TBD\n"
     ]
    }
   ],
   "source": [
    "DNA_MUG = 10 # micrograms of DNA\n",
    "\n",
    "AVG_NUM_CHROMOS = 80 # birds have this, 65 - 90\n",
    "AVG_NUM_BASE_PAIRS = 1.1 # Gbp, giga base pairs\n",
    "WEIGHT_1_NUCLEOTIDE = 325 # Da, daltons\n",
    "WEIGHT_1_BASE_PAIR = WEIGHT_1_NUCLEOTIDE * 2 # b/c 2 base pairs duh\n",
    "AVOGADRO = 6.0221408 * 10**23\n",
    "MUG_TO_G = 10**-3\n",
    "CHROMO_TO_TELE = 2\n",
    "TEST_TUBE_VOl = 200 # mul\n",
    "\n",
    "BP_PER_CHROMO = int(AVG_NUM_BASE_PAIRS*1000000000 / AVG_NUM_CHROMOS)\n",
    "\n",
    "MUG_TO_CHROMO = DNA_MUG/BP_PER_CHROMO/WEIGHT_1_BASE_PAIR*AVOGADRO*MUG_TO_G\n",
    "CHROMO_TELE = MUG_TO_CHROMO*CHROMO_TO_TELE\n",
    "CHROMO_TELE_MOLES = CHROMO_TELE/AVOGADRO\n",
    "\n",
    "MOLARITY = CHROMO_TELE_MOLES / (TEST_TUBE_VOl/1000)\n",
    "\n",
    "print(\"Part 1\")\n",
    "print(BP_PER_CHROMO, \"bp per chromosome\")\n",
    "print(MUG_TO_CHROMO, \"chromosomes\")\n",
    "print(CHROMO_TELE, \"telomeres\")\n",
    "print(CHROMO_TELE_MOLES, \"moles of oligonucleoside\")\n",
    "\n",
    "print(\"\\nPart 2: molarity\")\n",
    "print(MOLARITY, \"molarity\")\n",
    "\n",
    "print(\"\\nPart 3: stock solution\")\n",
    "print(\"TBD\")"
   ]
  },
  {
   "cell_type": "code",
   "execution_count": null,
   "id": "62c38a71-3925-46a7-ae4c-5ec759676a54",
   "metadata": {},
   "outputs": [],
   "source": []
  }
 ],
 "metadata": {
  "kernelspec": {
   "display_name": "venv",
   "language": "python",
   "name": "venv"
  },
  "language_info": {
   "codemirror_mode": {
    "name": "ipython",
    "version": 3
   },
   "file_extension": ".py",
   "mimetype": "text/x-python",
   "name": "python",
   "nbconvert_exporter": "python",
   "pygments_lexer": "ipython3",
   "version": "3.10.7"
  }
 },
 "nbformat": 4,
 "nbformat_minor": 5
}
